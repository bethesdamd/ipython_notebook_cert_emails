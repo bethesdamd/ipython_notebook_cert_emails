{
 "metadata": {
  "name": ""
 },
 "nbformat": 3,
 "nbformat_minor": 0,
 "worksheets": [
  {
   "cells": [
    {
     "cell_type": "code",
     "collapsed": false,
     "input": [
      "# March 2014\n",
      "# data processing on the CERT emails file to develop an insider threat demo visualization\n",
      "import os\n",
      "import pandas as pd\n",
      "import numpy as np\n",
      "import re"
     ],
     "language": "python",
     "metadata": {},
     "outputs": [],
     "prompt_number": "*"
    },
    {
     "cell_type": "code",
     "collapsed": false,
     "input": [
      "os.getcwd()\n",
      "os.chdir('/Users/david/datasets/CERT_Insider_Threat/r4.1/')\n",
      "os.getcwd()\n",
      "thous = pd.read_csv('email.csv', nrows=1000)"
     ],
     "language": "python",
     "metadata": {},
     "outputs": [],
     "prompt_number": "*"
    },
    {
     "cell_type": "code",
     "collapsed": false,
     "input": [
      "ten = thous[:10]"
     ],
     "language": "python",
     "metadata": {},
     "outputs": [],
     "prompt_number": 142
    },
    {
     "cell_type": "code",
     "collapsed": false,
     "input": [
      "os.getcwd()"
     ],
     "language": "python",
     "metadata": {},
     "outputs": [
      {
       "ename": "NameError",
       "evalue": "name 'os' is not defined",
       "output_type": "pyerr",
       "traceback": [
        "\u001b[0;31m---------------------------------------------------------------------------\u001b[0m\n\u001b[0;31mNameError\u001b[0m                                 Traceback (most recent call last)",
        "\u001b[0;32m<ipython-input-4-19d5095bb6ff>\u001b[0m in \u001b[0;36m<module>\u001b[0;34m()\u001b[0m\n\u001b[0;32m----> 1\u001b[0;31m \u001b[0mos\u001b[0m\u001b[0;34m.\u001b[0m\u001b[0mgetcwd\u001b[0m\u001b[0;34m(\u001b[0m\u001b[0;34m)\u001b[0m\u001b[0;34m\u001b[0m\u001b[0m\n\u001b[0m",
        "\u001b[0;31mNameError\u001b[0m: name 'os' is not defined"
       ]
      }
     ],
     "prompt_number": 4
    },
    {
     "cell_type": "code",
     "collapsed": false,
     "input": [
      "tenk = pd.read_csv('email.csv', nrows=100000, parse_dates=True)"
     ],
     "language": "python",
     "metadata": {},
     "outputs": [],
     "prompt_number": 143
    },
    {
     "cell_type": "code",
     "collapsed": false,
     "input": [
      "thous.sort(['date'], ascending=False).head(5)"
     ],
     "language": "python",
     "metadata": {},
     "outputs": [
      {
       "html": [
        "<div style=\"max-height:1000px;max-width:1500px;overflow:auto;\">\n",
        "<table border=\"1\" class=\"dataframe\">\n",
        "  <thead>\n",
        "    <tr style=\"text-align: right;\">\n",
        "      <th></th>\n",
        "      <th>id</th>\n",
        "      <th>date</th>\n",
        "      <th>user</th>\n",
        "      <th>pc</th>\n",
        "      <th>to</th>\n",
        "      <th>cc</th>\n",
        "      <th>bcc</th>\n",
        "      <th>from</th>\n",
        "      <th>size</th>\n",
        "      <th>attachments</th>\n",
        "      <th>content</th>\n",
        "    </tr>\n",
        "  </thead>\n",
        "  <tbody>\n",
        "    <tr>\n",
        "      <th>999</th>\n",
        "      <td> {U0M5-Y9XK05GY-1732SGRE}</td>\n",
        "      <td> 01/04/2010 07:08:46</td>\n",
        "      <td> TSK0646</td>\n",
        "      <td> PC-5607</td>\n",
        "      <td>                     Kibo.Lance.Carpenter@dtaa.com</td>\n",
        "      <td>                           NaN</td>\n",
        "      <td> NaN</td>\n",
        "      <td>      TaShya.Sonya.Kerr@dtaa.com</td>\n",
        "      <td> 45381</td>\n",
        "      <td> 0</td>\n",
        "      <td> cited humidity qualified lone states highly ku...</td>\n",
        "    </tr>\n",
        "    <tr>\n",
        "      <th>998</th>\n",
        "      <td> {L9J0-F6BN85MT-6949AMBU}</td>\n",
        "      <td> 01/04/2010 07:08:35</td>\n",
        "      <td> HWL0565</td>\n",
        "      <td> PC-3501</td>\n",
        "      <td> Gabriel.Rogan.Gardner@dtaa.com;Macaulay.Lance....</td>\n",
        "      <td>          RHL4339@raytheon.com</td>\n",
        "      <td> NaN</td>\n",
        "      <td>    Hanae.Wyoming.Leach@dtaa.com</td>\n",
        "      <td> 55683</td>\n",
        "      <td> 0</td>\n",
        "      <td> european within oh quickly tortured wmms 21 so...</td>\n",
        "    </tr>\n",
        "    <tr>\n",
        "      <th>997</th>\n",
        "      <td> {X9N9-W7RL12WO-8390SHGV}</td>\n",
        "      <td> 01/04/2010 07:08:25</td>\n",
        "      <td> GAM0895</td>\n",
        "      <td> PC-6362</td>\n",
        "      <td>                      Isadora.Alexa.Jones@dtaa.com</td>\n",
        "      <td>                           NaN</td>\n",
        "      <td> NaN</td>\n",
        "      <td>        Gil.Alvin.Myers@dtaa.com</td>\n",
        "      <td> 22966</td>\n",
        "      <td> 0</td>\n",
        "      <td> bridged australian positions against who took ...</td>\n",
        "    </tr>\n",
        "    <tr>\n",
        "      <th>996</th>\n",
        "      <td> {I8V7-T0ZK39KR-4321AHPK}</td>\n",
        "      <td> 01/04/2010 07:08:07</td>\n",
        "      <td> CAM0750</td>\n",
        "      <td> PC-0779</td>\n",
        "      <td> Kerry.Flavia.Herring@dtaa.com;Alea.MacKenzie.J...</td>\n",
        "      <td>                           NaN</td>\n",
        "      <td> NaN</td>\n",
        "      <td> Claudia.Ainsley.Madden@dtaa.com</td>\n",
        "      <td> 49443</td>\n",
        "      <td> 1</td>\n",
        "      <td> temporary because refused penetrating suited u...</td>\n",
        "    </tr>\n",
        "    <tr>\n",
        "      <th>995</th>\n",
        "      <td> {G0G3-P9FD68YG-3742ZOIJ}</td>\n",
        "      <td> 01/04/2010 07:07:43</td>\n",
        "      <td> BTH0930</td>\n",
        "      <td> PC-3870</td>\n",
        "      <td>                       David.Alvin.Strong@dtaa.com</td>\n",
        "      <td> Blake.Theodore.Hurst@dtaa.com</td>\n",
        "      <td> NaN</td>\n",
        "      <td>   Blake.Theodore.Hurst@dtaa.com</td>\n",
        "      <td> 32051</td>\n",
        "      <td> 0</td>\n",
        "      <td> lost give 1981 flight she events every childre...</td>\n",
        "    </tr>\n",
        "  </tbody>\n",
        "</table>\n",
        "</div>"
       ],
       "metadata": {},
       "output_type": "pyout",
       "prompt_number": 144,
       "text": [
        "                           id                 date     user       pc  \\\n",
        "999  {U0M5-Y9XK05GY-1732SGRE}  01/04/2010 07:08:46  TSK0646  PC-5607   \n",
        "998  {L9J0-F6BN85MT-6949AMBU}  01/04/2010 07:08:35  HWL0565  PC-3501   \n",
        "997  {X9N9-W7RL12WO-8390SHGV}  01/04/2010 07:08:25  GAM0895  PC-6362   \n",
        "996  {I8V7-T0ZK39KR-4321AHPK}  01/04/2010 07:08:07  CAM0750  PC-0779   \n",
        "995  {G0G3-P9FD68YG-3742ZOIJ}  01/04/2010 07:07:43  BTH0930  PC-3870   \n",
        "\n",
        "                                                    to  \\\n",
        "999                      Kibo.Lance.Carpenter@dtaa.com   \n",
        "998  Gabriel.Rogan.Gardner@dtaa.com;Macaulay.Lance....   \n",
        "997                       Isadora.Alexa.Jones@dtaa.com   \n",
        "996  Kerry.Flavia.Herring@dtaa.com;Alea.MacKenzie.J...   \n",
        "995                        David.Alvin.Strong@dtaa.com   \n",
        "\n",
        "                                cc  bcc                             from  \\\n",
        "999                            NaN  NaN       TaShya.Sonya.Kerr@dtaa.com   \n",
        "998           RHL4339@raytheon.com  NaN     Hanae.Wyoming.Leach@dtaa.com   \n",
        "997                            NaN  NaN         Gil.Alvin.Myers@dtaa.com   \n",
        "996                            NaN  NaN  Claudia.Ainsley.Madden@dtaa.com   \n",
        "995  Blake.Theodore.Hurst@dtaa.com  NaN    Blake.Theodore.Hurst@dtaa.com   \n",
        "\n",
        "      size  attachments                                            content  \n",
        "999  45381            0  cited humidity qualified lone states highly ku...  \n",
        "998  55683            0  european within oh quickly tortured wmms 21 so...  \n",
        "997  22966            0  bridged australian positions against who took ...  \n",
        "996  49443            1  temporary because refused penetrating suited u...  \n",
        "995  32051            0  lost give 1981 flight she events every childre...  "
       ]
      }
     ],
     "prompt_number": 144
    },
    {
     "cell_type": "code",
     "collapsed": false,
     "input": [
      "repl = lambda x: re.sub('.+\\@', '', x)  # create an anonymous function that removes everything but the domain from the email address"
     ],
     "language": "python",
     "metadata": {},
     "outputs": [],
     "prompt_number": 145
    },
    {
     "cell_type": "code",
     "collapsed": false,
     "input": [
      "getfirst = lambda x: x.split(\";\")[0]  # anonymous function that gets the first email address if there is more than one"
     ],
     "language": "python",
     "metadata": {},
     "outputs": [],
     "prompt_number": 146
    },
    {
     "cell_type": "code",
     "collapsed": false,
     "input": [
      "x = tenk['to']  # get just the 'to' column in the data, the email recipient"
     ],
     "language": "python",
     "metadata": {},
     "outputs": [],
     "prompt_number": 147
    },
    {
     "cell_type": "code",
     "collapsed": false,
     "input": [
      "tenkemails = x.map(getfirst)  # grab the first 10k emails"
     ],
     "language": "python",
     "metadata": {},
     "outputs": [],
     "prompt_number": 148
    },
    {
     "cell_type": "code",
     "collapsed": false,
     "input": [
      "doms = tenkemails.map(repl)  # get only the domain names of the 10k emails"
     ],
     "language": "python",
     "metadata": {},
     "outputs": [],
     "prompt_number": 149
    },
    {
     "cell_type": "code",
     "collapsed": false,
     "input": [
      "tenk_uniq_emails_set = set(doms.tolist())  # converting to a Set to get unique values since there isn't apparently a unique function"
     ],
     "language": "python",
     "metadata": {},
     "outputs": [],
     "prompt_number": 150
    },
    {
     "cell_type": "code",
     "collapsed": false,
     "input": [
      "tenk_uniq_emails_list = list(tenk_uniq_emails_set)  # convert to list"
     ],
     "language": "python",
     "metadata": {},
     "outputs": [],
     "prompt_number": 151
    },
    {
     "cell_type": "code",
     "collapsed": false,
     "input": [
      "emails = pd.DataFrame(tenk_uniq_emails_list)  # create dataframe"
     ],
     "language": "python",
     "metadata": {},
     "outputs": [],
     "prompt_number": 152
    },
    {
     "cell_type": "code",
     "collapsed": false,
     "input": [
      "domains = emails.applymap(repl)  # contains all the unique recipient email domains"
     ],
     "language": "python",
     "metadata": {},
     "outputs": [],
     "prompt_number": 153
    },
    {
     "cell_type": "code",
     "collapsed": false,
     "input": [
      "domains[:5]  # view the first five"
     ],
     "language": "python",
     "metadata": {},
     "outputs": [
      {
       "html": [
        "<div style=\"max-height:1000px;max-width:1500px;overflow:auto;\">\n",
        "<table border=\"1\" class=\"dataframe\">\n",
        "  <thead>\n",
        "    <tr style=\"text-align: right;\">\n",
        "      <th></th>\n",
        "      <th>0</th>\n",
        "    </tr>\n",
        "  </thead>\n",
        "  <tbody>\n",
        "    <tr>\n",
        "      <th>0</th>\n",
        "      <td>            msn.com</td>\n",
        "    </tr>\n",
        "    <tr>\n",
        "      <th>1</th>\n",
        "      <td> lockheedmartin.com</td>\n",
        "    </tr>\n",
        "    <tr>\n",
        "      <th>2</th>\n",
        "      <td>      bellsouth.net</td>\n",
        "    </tr>\n",
        "    <tr>\n",
        "      <th>3</th>\n",
        "      <td>      earthlink.net</td>\n",
        "    </tr>\n",
        "    <tr>\n",
        "      <th>4</th>\n",
        "      <td>        comcast.net</td>\n",
        "    </tr>\n",
        "  </tbody>\n",
        "</table>\n",
        "</div>"
       ],
       "metadata": {},
       "output_type": "pyout",
       "prompt_number": 156,
       "text": [
        "                    0\n",
        "0             msn.com\n",
        "1  lockheedmartin.com\n",
        "2       bellsouth.net\n",
        "3       earthlink.net\n",
        "4         comcast.net"
       ]
      }
     ],
     "prompt_number": 156
    },
    {
     "cell_type": "code",
     "collapsed": false,
     "input": [],
     "language": "python",
     "metadata": {},
     "outputs": []
    }
   ],
   "metadata": {}
  }
 ]
}